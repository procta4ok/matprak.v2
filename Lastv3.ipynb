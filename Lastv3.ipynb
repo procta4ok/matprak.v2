{
 "cells": [
  {
   "cell_type": "code",
   "execution_count": 3,
   "metadata": {},
   "outputs": [],
   "source": [
    "import scipy.io\n",
    "import numpy as np \n",
    "import matplotlib.pyplot as plt\n",
    "import pylab\n",
    "from functools import reduce"
   ]
  },
  {
   "cell_type": "code",
   "execution_count": 4,
   "metadata": {},
   "outputs": [
    {
     "name": "stderr",
     "output_type": "stream",
     "text": [
      "/Users/aplle/anaconda3/lib/python3.6/site-packages/ipykernel_launcher.py:31: RuntimeWarning: overflow encountered in short_scalars\n"
     ]
    },
    {
     "name": "stdout",
     "output_type": "stream",
     "text": [
      "Определены как шум:  26\n",
      "Реальный шум:  7\n"
     ]
    }
   ],
   "source": [
    "w = ['O', 'N', 'A']\n",
    "noise = list()\n",
    "mat = open('training2017/REFERENCE-original.csv', 'r')\n",
    "mat = list(map(lambda x: x.replace('\\n', '').split(','), mat.readlines()))\n",
    "for i in mat:\n",
    "    if i[1] not in w:\n",
    "        noise.append(int(i[0].replace('A', '')))\n",
    "def num5(n):\n",
    "    return '0' * (5 - len(str(n))) + str(n) # 5 -> 00005, A01234: 1234 -> 01234\n",
    "def rank(arr):\n",
    "    brr = [0] * len(arr)\n",
    "    maxs = set()\n",
    "    #topN = list()\n",
    "    ler = 0\n",
    "    while len(maxs) != len(arr):\n",
    "        maximum = -10000\n",
    "        I = 0\n",
    "        for i in set(range(len(arr))) - maxs:\n",
    "            if arr[i] > maximum:\n",
    "                maximum = arr[i]\n",
    "                I = i\n",
    "        brr[I] = len(maxs)\n",
    "        maxs.update({I})\n",
    "    return brr\n",
    "\n",
    "def series(data):#критерий серий\n",
    "    ser = 1\n",
    "    n1 = 0\n",
    "    n2 = 0\n",
    "    for i in range(1, len(data)):\n",
    "        if data[i] * data[i - 1] <= 0:\n",
    "            ser += 1\n",
    "    for i in data:\n",
    "        if i >= 0:\n",
    "            n1 += 1\n",
    "        else:\n",
    "            n2 += 1\n",
    "    E = 2 * n1 * n2/(n1 + n2) + 1\n",
    "    Var = (2 * n1 * n2/(n1 + n2)**2) * (2 * n1 * n2 - n1 - n2)/(n1 + n2 - 1)\n",
    "    return (ser - E)/np.sqrt(Var)\n",
    "\n",
    "def otvet(data, x):#анализ на выбросы\n",
    "    X = np.mean(data)\n",
    "    V = np.var(data)\n",
    "    count = 0\n",
    "    for i in data:\n",
    "        if i > X + x * np.sqrt(V) or i < X - x * np.sqrt(V):\n",
    "            count += 1\n",
    "    return count\n",
    "#далее происходит отбор сначала по выбросам, потом из полученных по критерию серий\n",
    "summ = 0\n",
    "ryad = list()\n",
    "flag = 1\n",
    "it = 1\n",
    "while flag:\n",
    "    try:\n",
    "        mat = scipy.io.loadmat('training2017/A' + num5(it) + '.mat')['val'][0]\n",
    "        ryad.append([otvet(mat, 4.96), it])\n",
    "        it += 1\n",
    "    except:\n",
    "        flag = 0\n",
    "count = 0\n",
    "ccount = 0\n",
    "new = list()\n",
    "for i in ryad:\n",
    "    if i[0] <= 0.1:\n",
    "        new.append(i)\n",
    "dataset = list()\n",
    "for i in new:\n",
    "    mat = scipy.io.loadmat('training2017/A' + num5(i[1]) + '.mat')['val'][0]\n",
    "    dataset.append([otvet(mat, 1.6), i[1]])\n",
    "superdataset = list()\n",
    "for i in dataset:\n",
    "    if i[0] <= 1000:\n",
    "        superdataset.append(i)\n",
    "last = list()\n",
    "for i in superdataset:\n",
    "    mat = scipy.io.loadmat('training2017/A' + num5(i[1]) + '.mat')['val'][0]\n",
    "    n = series(mat)\n",
    "    if np.abs(n) < 14:\n",
    "        last.append([n, i[1]])\n",
    "numb = 0\n",
    "for i in last:\n",
    "    if i[1] in noise:\n",
    "        numb += 1\n",
    "print(\"Определены как шум: \", len(last))\n",
    "print(\"Реальный шум: \", numb)"
   ]
  },
  {
   "cell_type": "code",
   "execution_count": null,
   "metadata": {},
   "outputs": [],
   "source": []
  }
 ],
 "metadata": {
  "kernelspec": {
   "display_name": "Python 3",
   "language": "python",
   "name": "python3"
  },
  "language_info": {
   "codemirror_mode": {
    "name": "ipython",
    "version": 3
   },
   "file_extension": ".py",
   "mimetype": "text/x-python",
   "name": "python",
   "nbconvert_exporter": "python",
   "pygments_lexer": "ipython3",
   "version": "3.6.5"
  }
 },
 "nbformat": 4,
 "nbformat_minor": 2
}
