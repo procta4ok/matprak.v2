{
 "cells": [
  {
   "cell_type": "code",
   "execution_count": null,
   "metadata": {},
   "outputs": [],
   "source": [
    "import numpy as np\n",
    "import matplotlib.pyplot as plt\n",
    "import scipy.io as sc\n",
    "import pandas as pd\n",
    "from functools import reduce"
   ]
  },
  {
   "cell_type": "code",
   "execution_count": null,
   "metadata": {},
   "outputs": [],
   "source": [
    "def max3(arr):\n",
    "    first = max(arr[0], arr[1])\n",
    "    second = min(arr[0], arr[1])\n",
    "    third = -1e+10\n",
    "    for i in range(2, len(arr)):\n",
    "        if arr[i] > first:\n",
    "            third = second\n",
    "            second = first\n",
    "            first = arr[i]\n",
    "        elif arr[i] > second:\n",
    "            third = second\n",
    "            second = arr[i]\n",
    "        elif arr[i] > third:\n",
    "            third = arr[i]\n",
    "    return third"
   ]
  },
  {
   "cell_type": "code",
   "execution_count": null,
   "metadata": {},
   "outputs": [],
   "source": [
    "def num5(i):\n",
    "    i = str(i)\n",
    "    return '0' * (5 - len(i)) + i "
   ]
  },
  {
   "cell_type": "markdown",
   "metadata": {},
   "source": [
    "Данные о шумах"
   ]
  },
  {
   "cell_type": "code",
   "execution_count": null,
   "metadata": {},
   "outputs": [],
   "source": [
    "df = pd.read_csv('training2017/REFERENCE-original.csv', header=-1,\n",
    "                 sep=',', \n",
    "                 encoding='latin1',\n",
    "                )"
   ]
  },
  {
   "cell_type": "code",
   "execution_count": null,
   "metadata": {},
   "outputs": [],
   "source": [
    "df"
   ]
  },
  {
   "cell_type": "code",
   "execution_count": null,
   "metadata": {},
   "outputs": [],
   "source": [
    "ECG = list('OAN')\n",
    "noises = list()\n",
    "for i in range(len(df)):\n",
    "    if df[1][i] not in ECG:\n",
    "        noises.append(df[0][i])"
   ]
  },
  {
   "cell_type": "markdown",
   "metadata": {},
   "source": [
    "Описание модели"
   ]
  },
  {
   "cell_type": "code",
   "execution_count": null,
   "metadata": {},
   "outputs": [],
   "source": [
    "mat = sc.loadmat('training2017/A00001.mat')['val'][0]"
   ]
  },
  {
   "cell_type": "markdown",
   "metadata": {},
   "source": [
    "Если мы имеем дело с сигналом ЭКГ, то наша задача найти 2 похожик (проще всего подряд идущих) участка одинаковой длины. Мерой их похожести является коэффмцмент корелляции, который должен быть положительным и достаточно большим. Мы будем искать по 3 похожих участка, так как по 1 участку мы можем найти и у выбросов"
   ]
  },
  {
   "cell_type": "code",
   "execution_count": null,
   "metadata": {},
   "outputs": [],
   "source": [
    "plt.plot(range(len(mat[3200:3450])), mat[3200:3450])\n",
    "plt.show()\n",
    "plt.plot(range(len(mat[3450:3700])), mat[3450:3700])\n",
    "plt.show()"
   ]
  },
  {
   "cell_type": "code",
   "execution_count": null,
   "metadata": {},
   "outputs": [],
   "source": [
    "data1 = mat[3200:3450]\n",
    "data2 = mat[3450:3700]"
   ]
  },
  {
   "cell_type": "code",
   "execution_count": null,
   "metadata": {},
   "outputs": [],
   "source": [
    "ro = np.corrcoef(data1, data2)"
   ]
  },
  {
   "cell_type": "code",
   "execution_count": null,
   "metadata": {},
   "outputs": [],
   "source": [
    "ro[0, 1]"
   ]
  },
  {
   "cell_type": "markdown",
   "metadata": {},
   "source": [
    "И таким образом нашей задачей будет найти такие корелляции, и если они будут достаточно большими, мы будем принимать данные как экг, в противном случает отвергать. Из посчитанных корелляций будем брать третий максимум, так как предполагаем, что у ЭКГ похожих подряд идущий участков должно быть много, а у шума нет"
   ]
  },
  {
   "cell_type": "code",
   "execution_count": null,
   "metadata": {},
   "outputs": [],
   "source": [
    "def correlation(mat, step):\n",
    "    ex = int(len(mat)/5)\n",
    "    if step != 4:\n",
    "        X = np.mean(list(mat[0:step * ex]) + list(mat[(step + 1) * ex:]))\n",
    "        V = np.var(list(mat[0:step * ex]) + list(mat[(step + 1) * ex:]))\n",
    "    else:\n",
    "        X = np.mean(mat[4 * ex:])\n",
    "        V = np.var(mat[4 * ex])\n",
    "    high = X + 1.96 * np.sqrt(V)\n",
    "    low = X - 1.96 * np.sqrt(V)\n",
    "    #print(high, low)\n",
    "    count1 = 0\n",
    "    count2 = 0\n",
    "    highs = list()\n",
    "    lows = list()\n",
    "    for i in range(1, len(mat) - 1):\n",
    "        if mat[i - 1] > high and mat[i + 1] > high and mat[i] >= mat[i - 1] and mat[i] >= mat[i + 1]:\n",
    "            count1 += 1\n",
    "            highs.append(i)\n",
    "        elif mat[i] < low and mat[i] <= mat[i - 1] and mat[i] <= mat[i + 1]:\n",
    "            count2 += 1\n",
    "            lows.append(i)\n",
    "    ros = list()\n",
    "    for i in range(1, len(highs) - 3):\n",
    "        l1 = highs[i + 1] - highs[i - 1]\n",
    "        l2 = highs[i + 3] - highs[i + 1]\n",
    "        delt = min(l1, l2)\n",
    "        if delt > 200:\n",
    "            ro = np.corrcoef(mat[highs[i + 1] - delt:highs[i + 1]], mat[highs[i + 3] - delt:highs[i + 3]])\n",
    "            ros.append(ro[0, 1])\n",
    "    #print(lows)\n",
    "    rosx = list()\n",
    "    for i in range(1, len(lows) - 3):\n",
    "        l1 = lows[i + 1] - lows[i - 1]\n",
    "        l2 = lows[i + 3] - lows[i + 1]\n",
    "        delt = min(l1, l2)\n",
    "        if delt > 200:\n",
    "            ro = np.corrcoef(mat[lows[i + 1] - delt:lows[i + 1]], mat[lows[i + 3] - delt:lows[i + 3]])\n",
    "            rosx.append(ro[0, 1])\n",
    "    if len(ros) > 3 and len(rosx) > 3:\n",
    "        return(max(max3(ros), max3(rosx)))\n",
    "    elif len(ros) > 3:\n",
    "        return max3(ros)\n",
    "    elif len(rosx) > 3:\n",
    "        return max3(rosx)\n",
    "    return 0"
   ]
  },
  {
   "cell_type": "markdown",
   "metadata": {},
   "source": [
    "Вычисляем значения для всех данных"
   ]
  },
  {
   "cell_type": "code",
   "execution_count": null,
   "metadata": {},
   "outputs": [],
   "source": [
    "correlations = list()\n",
    "it = 1\n",
    "flag = 1\n",
    "while flag:\n",
    "    try:\n",
    "        if 'A' + num5(it) + '.mat' not in noises:\n",
    "            mat = sc.loadmat('training2017/A' + num5(it) + '.mat')['val'][0]\n",
    "            cv = list()\n",
    "            for j in range(4):\n",
    "                cv.append(correlation(mat, j))\n",
    "            correlations.append(max(cv))\n",
    "            if it % 100 == 0:\n",
    "                print(it)\n",
    "            it += 1\n",
    "    except:\n",
    "        flag = 0\n",
    "        print('EOF')"
   ]
  },
  {
   "cell_type": "markdown",
   "metadata": {},
   "source": [
    "Теперь только для шумов"
   ]
  },
  {
   "cell_type": "code",
   "execution_count": null,
   "metadata": {},
   "outputs": [],
   "source": [
    "coors = list()\n",
    "for i in noises:\n",
    "    mat = sc.loadmat('training2017/' + i + '.mat')['val'][0]\n",
    "    cv = list()\n",
    "    for j in range(4):\n",
    "        #print(i)\n",
    "        cv.append(correlation(mat, j))\n",
    "    coors.append(max(cv))\n",
    "    print(i)"
   ]
  },
  {
   "cell_type": "markdown",
   "metadata": {},
   "source": [
    "correlations - массив для всех данных, coors - только для шумов"
   ]
  },
  {
   "cell_type": "code",
   "execution_count": null,
   "metadata": {},
   "outputs": [],
   "source": [
    "plt.hist(correlations, 20)\n",
    "plt.show()\n",
    "plt.hist(coors, 9)\n",
    "plt.show()"
   ]
  },
  {
   "cell_type": "markdown",
   "metadata": {},
   "source": [
    "Имеет смысл принимать за экг все данные, у которых посчитанное значение > 0.5"
   ]
  },
  {
   "cell_type": "markdown",
   "metadata": {},
   "source": [
    "Всего определены как шум"
   ]
  },
  {
   "cell_type": "code",
   "execution_count": null,
   "metadata": {},
   "outputs": [],
   "source": [
    "sum(list(map(lambda x: x <= 0.5, correlations)))"
   ]
  },
  {
   "cell_type": "markdown",
   "metadata": {},
   "source": [
    "Из них реально шум"
   ]
  },
  {
   "cell_type": "code",
   "execution_count": null,
   "metadata": {
    "scrolled": true
   },
   "outputs": [],
   "source": [
    "sum(list(map(lambda x: x <= 0.5, coors)))"
   ]
  }
 ],
 "metadata": {
  "kernelspec": {
   "display_name": "Python 3",
   "language": "python",
   "name": "python3"
  },
  "language_info": {
   "codemirror_mode": {
    "name": "ipython",
    "version": 3
   },
   "file_extension": ".py",
   "mimetype": "text/x-python",
   "name": "python",
   "nbconvert_exporter": "python",
   "pygments_lexer": "ipython3",
   "version": "3.6.5"
  }
 },
 "nbformat": 4,
 "nbformat_minor": 2
}
